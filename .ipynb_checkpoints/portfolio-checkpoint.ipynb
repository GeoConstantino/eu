{
 "cells": [
  {
   "cell_type": "markdown",
   "metadata": {},
   "source": [
    "# Geovani Constantino\n",
    "#### Cientista de Dados carioca atuando no MPRJ\n",
    "---\n",
    "[<img src=\"https://image.flaticon.com/icons/png/512/16/16066.png\" width=\"30\" align=\"left\"> ](http://www.linkedin.com/in/geoconstantino)[<img src=\"https://image.flaticon.com/icons/png/512/25/25231.png\" width=\"30\" align=\"left\">](http://www.github.com/geoconstantino)\n",
    "[<img src=\"https://image.flaticon.com/icons/png/512/38/38334.png\" width=\"30\" align=\"left\">](https://api.whatsapp.com/send?phone=+5521981219281)"
   ]
  },
  {
   "cell_type": "markdown",
   "metadata": {},
   "source": [
    "\n",
    "### Abaixo constam alguns projetos que atuei no MPRJ. \n",
    "### Infelizmente muitos projetos são de conteúdo sigiloso, e não podem ser publicados neste espaço.\n"
   ]
  },
  {
   "cell_type": "markdown",
   "metadata": {},
   "source": [
    "## Levantamento de Delitos do Estado do Rio de Janeiro\n",
    "---\n",
    "\n",
    "#### Utilizando os dados disponibilizados pelo ISP fizemos um dashboard onde o usuário pode comparar os números relativos a  segurança pública entre seus Municípios, delegacias ou até mesmo AISPs. Também foi utilizado técnicas de normalização para que o usuário possa dimensionar estes dados a realidade dos municípios e suas populações.\n",
    "\n",
    "\n",
    "\n",
    "<img src=\"http://wordpress-dev-blog-cadg.devcloud.mprj.mp.br/wp-content/uploads/2019/04/Blog3.png\" width=\"400\" align=\"center\">\n",
    "\n",
    "Veja abaixo:\n"
   ]
  },
  {
   "cell_type": "code",
   "execution_count": 12,
   "metadata": {
    "scrolled": true
   },
   "outputs": [
    {
     "data": {
      "text/html": [
       "\n",
       "<div class='tableauPlaceholder' id='viz1576726220552' style='position: relative'><noscript><a href='#'><img alt=' ' src='https:&#47;&#47;public.tableau.com&#47;static&#47;images&#47;NS&#47;NSGMTW6T4&#47;1_rss.png' style='border: none' /></a></noscript><object class='tableauViz'  style='display:none;'><param name='host_url' value='https%3A%2F%2Fpublic.tableau.com%2F' /> <param name='embed_code_version' value='3' /> <param name='path' value='shared&#47;NSGMTW6T4' /> <param name='toolbar' value='no' /><param name='static_image' value='https:&#47;&#47;public.tableau.com&#47;static&#47;images&#47;NS&#47;NSGMTW6T4&#47;1.png' /> <param name='animate_transition' value='yes' /><param name='display_static_image' value='yes' /><param name='display_spinner' value='yes' /><param name='display_overlay' value='yes' /><param name='display_count' value='yes' /></object></div>                <script type='text/javascript'>                    var divElement = document.getElementById('viz1576726220552');                    var vizElement = divElement.getElementsByTagName('object')[0];                    vizElement.style.width='1000px';vizElement.style.height='3223px';                    var scriptElement = document.createElement('script');                    scriptElement.src = 'https://public.tableau.com/javascripts/api/viz_v1.js';                    vizElement.parentNode.insertBefore(scriptElement, vizElement);                </script>\n"
      ],
      "text/plain": [
       "<IPython.core.display.HTML object>"
      ]
     },
     "metadata": {},
     "output_type": "display_data"
    }
   ],
   "source": [
    "%%HTML\n",
    "\n",
    "<div class='tableauPlaceholder' id='viz1576726220552' style='position: relative'><noscript><a href='#'><img alt=' ' src='https:&#47;&#47;public.tableau.com&#47;static&#47;images&#47;NS&#47;NSGMTW6T4&#47;1_rss.png' style='border: none' /></a></noscript><object class='tableauViz'  style='display:none;'><param name='host_url' value='https%3A%2F%2Fpublic.tableau.com%2F' /> <param name='embed_code_version' value='3' /> <param name='path' value='shared&#47;NSGMTW6T4' /> <param name='toolbar' value='no' /><param name='static_image' value='https:&#47;&#47;public.tableau.com&#47;static&#47;images&#47;NS&#47;NSGMTW6T4&#47;1.png' /> <param name='animate_transition' value='yes' /><param name='display_static_image' value='yes' /><param name='display_spinner' value='yes' /><param name='display_overlay' value='yes' /><param name='display_count' value='yes' /></object></div>                <script type='text/javascript'>                    var divElement = document.getElementById('viz1576726220552');                    var vizElement = divElement.getElementsByTagName('object')[0];                    vizElement.style.width='1000px';vizElement.style.height='3223px';                    var scriptElement = document.createElement('script');                    scriptElement.src = 'https://public.tableau.com/javascripts/api/viz_v1.js';                    vizElement.parentNode.insertBefore(scriptElement, vizElement);                </script>"
   ]
  },
  {
   "cell_type": "markdown",
   "metadata": {},
   "source": [
    "## Análise de Custo por Voto das Eleições Estaduais do Rio de Janeiro de 2014\n",
    "\n",
    "Fazendo análise dos gastos de campanha das eleições de 2014 para o Estado do Rio comparados com o total de votos por candidatos, podemos criar um dashboard onde ilustramos fatos curiosos sobre estes cenários. Por exemplo, podemos ver que o candidadto Tarcísio Mota teve o melhor custo x benefício relativo ao \"Voto x Valor Empregado em Campanha\". Estes e outros insights podem ser observados no painel abaixo. \n",
    "\n",
    "\n",
    "![eleicoes_2014_rj](http://wordpress-dev-blog-cadg.devcloud.mprj.mp.br/wp-content/uploads/2019/04/Blog2-1.png)"
   ]
  },
  {
   "cell_type": "markdown",
   "metadata": {},
   "source": [
    "## Dashboard da Secretaria de Logística do MPRJ\n",
    "\n",
    "A Secretaria de Logística disponibiliza seus dados ao MP em Mapas para que seja analisado e disponibilizado em forma de dashboard. Com este dashboard temos acesso a informações relevantes como a média de consumo de combustível de todo o MPRJ, ou detalhadamente, por grupo, orgão e usuário. Dados como distância percorrida e local de parqueamento também ficam disponíveis.\n",
    "\n",
    "![seclog](http://wordpress-dev-blog-cadg.devcloud.mprj.mp.br/wp-content/uploads/2019/04/blog-2.png)"
   ]
  },
  {
   "cell_type": "markdown",
   "metadata": {},
   "source": [
    "## Doações de Campanha x Isenções Fiscais - Estudo de Caso\n",
    "##\n",
    "\n",
    "Foi feita uma raspagem de dados do TSE sobre as doações de campanha de 2014 no RJ.  Os estão originalmente organizados por candidatura (além de partidos e comitês), e somente podem ser vistas no site do tribunal doações diretas agrupadas pelo recebedor.\n",
    "\n",
    "Nós então estruturamos os dados para permitir que fossem vistas doações agrupadas também por doador, gerando assim a visualização da \"bancada\" que recebeu recursos de determinada fonte.\n",
    "![doacao_indireta](http://wordpress-dev-blog-cadg.devcloud.mprj.mp.br/wp-content/uploads/2019/04/image-1024x560.png)\n",
    "\n",
    "Além disso, criamos o conceito de \"doação indireta\", associado o doador original do recurso ao doador final, quando acontece de uma candidatura repassar recursos para outra. Desta forma, várias relações entre doadores e candidaturas que não estão exibidas no site do tribunal se tornam visíveis.\n",
    "\n",
    "Por fim, adicionamos os dados gerados em um grafo junto das isenções fiscais concedidas pelo governo do estado à empresas, permitindo a criação de uma visualização conjunta destas duas distintas formas de movimentação financeira.\n",
    "![grafo_rj](http://wordpress-dev-blog-cadg.devcloud.mprj.mp.br/wp-content/uploads/2019/04/image-1-1024x560.png)"
   ]
  },
  {
   "cell_type": "markdown",
   "metadata": {},
   "source": [
    "## Análise de Dados + Dashboard SINALID\n",
    "### SINALID:  Sistema Nacional de Localização e Identificação de Desaparecidos do Ministério Público\n",
    "\n",
    "\n",
    "Análise dos dados do Sinalide e posterior criação de um dashboard com informações estatísticas de pessoas desaparecidas, com intuito de ser anexado ao site do SINALID. Neste dashboard temos informações de Faixa de Idade, Cor da Pele, Sexo e Estado, para que os usuários possam ter dimensão do problema cruzando estes dados. Ao clicar em cada estado, após ser aplicado os filtros pelo estado selecionado, é possível acessar o site do PLID deste estado. \n",
    "\n",
    "![http://plid.mprj.mp.br/](http://wordpress-dev-blog-cadg.devcloud.mprj.mp.br/wp-content/uploads/2019/04/image-3.png)\n",
    "\n",
    "#### Obs.: Painel foi removido do site\n"
   ]
  },
  {
   "cell_type": "markdown",
   "metadata": {},
   "source": [
    "## Raspagem do site da ALERJ, Cruzamento com Doações de Campanha e Bens Declarados em campanha\n",
    "### LUPA: Aplicativo em construção para disponibilização de dados sociais a população fluminense\n",
    "\n",
    "O MP em Mapas está desenvolvendo um app para entregar à população fluminense dados sobre seus municípios, governantes e representantes.\n",
    "A previsão de lançamento é para Março de 2020 com expectativa de cem mil usuários até o fim do ano.\n",
    "\n",
    "Dentre as análises realizadas, as relativas aos Deputados Estaduais são consideradas as mais relevantes e por isso estão aqui destacadas. Dentre os dados expostos dos deputados, constam: \n",
    "* Bens declarados nas campanhas dos deputados;\n",
    "* Votos recebidos, separados por seção e zona eleitoral;\n",
    "* Projetos de lei propostos durante o mandato;\n",
    "* Nomeações de assessores de gabinete (através de raspagem dos diários oficiais);\n",
    "* Doações recebidas;\n",
    "* Despesas de campanha;\n",
    "    \n",
    "\n",
    "![lupa1](https://i.ibb.co/SsqNxnd/Screenshot-from-2019-12-17-16-25-39.png) ![lupa2](https://i.ibb.co/cY3H3v9/Screenshot-from-2019-12-17-16-26-46.png) ![lupa3](https://i.ibb.co/k1bbcL2/Screenshot-from-2019-12-17-16-29-32.png)"
   ]
  },
  {
   "cell_type": "code",
   "execution_count": null,
   "metadata": {},
   "outputs": [],
   "source": []
  },
  {
   "cell_type": "code",
   "execution_count": null,
   "metadata": {},
   "outputs": [],
   "source": []
  }
 ],
 "metadata": {
  "kernelspec": {
   "display_name": "Python 3",
   "language": "python",
   "name": "python3"
  },
  "language_info": {
   "codemirror_mode": {
    "name": "ipython",
    "version": 3
   },
   "file_extension": ".py",
   "mimetype": "text/x-python",
   "name": "python",
   "nbconvert_exporter": "python",
   "pygments_lexer": "ipython3",
   "version": "3.7.3"
  }
 },
 "nbformat": 4,
 "nbformat_minor": 2
}
